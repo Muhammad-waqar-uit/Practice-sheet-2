{
 "cells": [
  {
   "cell_type": "markdown",
   "metadata": {},
   "source": [
    "# Muhammad Waqar 19B-116-SE "
   ]
  },
  {
   "cell_type": "markdown",
   "metadata": {},
   "source": [
    "# Python User Define Function Practice Activity - 2 "
   ]
  },
  {
   "cell_type": "markdown",
   "metadata": {},
   "source": [
    "Asst. Prof. Syed Faisal Ali              $\\;\\;\\;\\;\\;\\;$              Programming Fundamentals - FALL 2019 $\\;\\;\\;\\;\\;\\;$ Software Engineering                     $\\;\\;\\;\\;\\;\\;$                   Dated: 27 Nov 2019"
   ]
  },
  {
   "cell_type": "markdown",
   "metadata": {},
   "source": [
    "Question 1: Create a function to find the following:\n",
    "If the base of triangle is 3 cm long and its equilateral triangle and the radius of circle is 1.5 cm then find the area of triangle shaded. \n"
   ]
  },
  {
   "cell_type": "markdown",
   "metadata": {},
   "source": [
    "![proj](q1.jpg)"
   ]
  },
  {
   "cell_type": "code",
   "execution_count": 21,
   "metadata": {},
   "outputs": [
    {
     "name": "stdout",
     "output_type": "stream",
     "text": [
      "16.314102431602805 cm.square\n"
     ]
    }
   ],
   "source": [
    "import math\n",
    "def area(r):\n",
    "    x=(((math.sqrt(3))/4)*(3**2))*6\n",
    "    x1=(math.pi)*(r**2)\n",
    "    result=x-x1\n",
    "    return result\n",
    "print(area(1.5),\"cm.square\")"
   ]
  },
  {
   "cell_type": "markdown",
   "metadata": {},
   "source": [
    "Question 2: Create a function which can read a dictionary of your family members such as 5 members. \n",
    "1 Abbu, 1 Ammi, 2 Brothers 1 Sister. Now feed this data in dictionary in terms of name and relations.\n",
    "The UDF will ask findrelation() in this you will enter Brother it will return the names of two brothers you have inserted. In case if the relation is not found it will return “Sorry the relation doesn’t exist in your family.” \n"
   ]
  },
  {
   "cell_type": "code",
   "execution_count": 7,
   "metadata": {},
   "outputs": [
    {
     "name": "stdout",
     "output_type": "stream",
     "text": [
      "Waqas, Danish\n"
     ]
    }
   ],
   "source": [
    "def findrelation(d):\n",
    "    dic = {'father':'Abdul Ghaffar' , 'brother':'Waqas, Danish' , 'sister':'Iqra' , 'mother':'Rukhsana'}\n",
    "    a = dic[d]\n",
    "    return a\n",
    "print(findrelation('brother'))"
   ]
  },
  {
   "cell_type": "markdown",
   "metadata": {},
   "source": [
    "Question 3: Create a function to find the following:\n",
    "If the base of triangle is 5 cm long and its equilateral triangle and the radius of circle is 2.25 cm then find the area of triangle shaded. \n"
   ]
  },
  {
   "cell_type": "markdown",
   "metadata": {},
   "source": [
    "![proj](q3.jpg)"
   ]
  },
  {
   "cell_type": "code",
   "execution_count": 22,
   "metadata": {},
   "outputs": [
    {
     "name": "stdout",
     "output_type": "stream",
     "text": [
      "49.04759247503458 cm.square\n"
     ]
    }
   ],
   "source": [
    "import math\n",
    "def area(r):\n",
    "    x=(((math.sqrt(3))/4)*(5**2))*6\n",
    "    x1=(math.pi)*(r**2)\n",
    "    result=abs(x1-x)\n",
    "    return result\n",
    "print(area(2.25),\"cm.square\")"
   ]
  },
  {
   "cell_type": "markdown",
   "metadata": {},
   "source": [
    "Question 4:\n",
    "Create a function that takes a list of random numbers from users and add only those which are even. If all the numbers are odd it will return sorry no even number found.\n"
   ]
  },
  {
   "cell_type": "code",
   "execution_count": 12,
   "metadata": {},
   "outputs": [
    {
     "name": "stdout",
     "output_type": "stream",
     "text": [
      "2\n",
      "Even\n",
      "3\n",
      "sorry\n",
      "4\n",
      "Even\n",
      "5\n",
      "sorry\n",
      "6\n",
      "Even\n",
      "7\n",
      "sorry\n",
      "8\n",
      "Even\n",
      "\n"
     ]
    }
   ],
   "source": [
    "def even(n):\n",
    "    for x in n:\n",
    "        if x%2==0:\n",
    "            print(x)\n",
    "            print(\"Even\")\n",
    "        else:\n",
    "            print(x)\n",
    "            print(\"sorry\")\n",
    "    return\"\"        \n",
    "print(even([2,3,4,5,6,7,8]))"
   ]
  },
  {
   "cell_type": "markdown",
   "metadata": {},
   "source": [
    "Question 5:\n",
    "Write a function which can take a list of numbers and it will return sorted list.\n"
   ]
  },
  {
   "cell_type": "code",
   "execution_count": 19,
   "metadata": {},
   "outputs": [
    {
     "name": "stdout",
     "output_type": "stream",
     "text": [
      "['1', '2', '3', '4', '5']\n"
     ]
    }
   ],
   "source": [
    "def sort(l):\n",
    "    return sorted(l)\n",
    "print (sort(['1','5','4','3','2']))"
   ]
  },
  {
   "cell_type": "markdown",
   "metadata": {},
   "source": [
    "Question 6:\n",
    "Write a function that will take the radius and return the perimeter and area of circle with 5% increment.\n"
   ]
  },
  {
   "cell_type": "code",
   "execution_count": 23,
   "metadata": {},
   "outputs": [
    {
     "name": "stdout",
     "output_type": "stream",
     "text": [
      "Perimeter 37.69911184307752\n",
      "Area of Circle: 118.75220230569418\n",
      " cm.square\n"
     ]
    }
   ],
   "source": [
    "from math import pi\n",
    "def area_circle(r):\n",
    "    area=pi*(r**2)\n",
    "    a = area+(area*0.05)\n",
    "    print(\"Perimeter\",2*pi*r)\n",
    "    print(\"Area of Circle:\",a)\n",
    "    return \"\"\n",
    "print(area_circle(6),\"cm.square\")"
   ]
  },
  {
   "cell_type": "markdown",
   "metadata": {},
   "source": [
    "Question 7:\n",
    "Write a function that will take the strings as argument and return number of vowels and consonants.\n"
   ]
  },
  {
   "cell_type": "code",
   "execution_count": 26,
   "metadata": {},
   "outputs": [
    {
     "name": "stdout",
     "output_type": "stream",
     "text": [
      "W\n",
      "A\n",
      "Q\n",
      "A\n",
      "R\n",
      "vowels: 3\n",
      "Consonants: 2\n",
      "\n"
     ]
    }
   ],
   "source": [
    "def cons(x):\n",
    "    c=0\n",
    "    v=0\n",
    "    for y in x:\n",
    "        if y in \"aeiouAEIOU\":\n",
    "            print(y)\n",
    "            c=c+1\n",
    "        else:\n",
    "            print(y)\n",
    "            v=v+1\n",
    "    print(\"vowels:\",v)\n",
    "    print(\"Consonants:\",c)\n",
    "    return\"\"\n",
    "print(cons(\"WAQAR\"))"
   ]
  },
  {
   "cell_type": "markdown",
   "metadata": {},
   "source": [
    "Question 8:\n",
    "Write a function that will take length and breadth for a rectangle and return perimeter and area of rectangle with 8% increment.\n"
   ]
  },
  {
   "cell_type": "code",
   "execution_count": 30,
   "metadata": {},
   "outputs": [
    {
     "name": "stdout",
     "output_type": "stream",
     "text": [
      "area of rectangle: 37.800000000000004 cm.square\n",
      "perimeter: 25.92\n"
     ]
    }
   ],
   "source": [
    "from math import pi\n",
    "def rec(l,b):\n",
    "    area=(l*b)*(108/100)\n",
    "    print(\"area of rectangle:\",area,\"cm.square\")\n",
    "    print(\"perimeter:\",(2*(l+b))*(108/100))\n",
    "rec(5,7)    "
   ]
  },
  {
   "cell_type": "markdown",
   "metadata": {},
   "source": [
    "Question 9:\n",
    "Write a function that can take the numbers in strings. From string find which number is even and which one is odd. Save them in two different lists and generate the result.\n"
   ]
  },
  {
   "cell_type": "code",
   "execution_count": 31,
   "metadata": {},
   "outputs": [
    {
     "name": "stdout",
     "output_type": "stream",
     "text": [
      "Numbers of Even : 4\n",
      "Numbers of odd: 4\n",
      "List of even: ['2', '4', '6', '8']\n",
      "List of odd: ['1', '3', '5', '7']\n"
     ]
    }
   ],
   "source": [
    "string = \"12345678\"\n",
    "even = 0\n",
    "odd = 0\n",
    "evenlist = []\n",
    "oddlist = []\n",
    "for i in string:\n",
    "    if int(i)%2==0:\n",
    "        even += 1\n",
    "        evenlist.append(i)\n",
    "    else:\n",
    "        odd += 1\n",
    "        oddlist.append(i)\n",
    "print('Numbers of Even :',even)\n",
    "print('Numbers of odd:',odd)\n",
    "print(\"List of even:\",evenlist)\n",
    "print(\"List of odd:\",oddlist)"
   ]
  },
  {
   "cell_type": "markdown",
   "metadata": {},
   "source": [
    "Question 10:\n",
    "Write a function which will take the string from the user and return how many alphabets have been used in it and which alphabets are missing.\n"
   ]
  },
  {
   "cell_type": "code",
   "execution_count": 46,
   "metadata": {},
   "outputs": [
    {
     "name": "stdout",
     "output_type": "stream",
     "text": [
      "4\n",
      "bcdefghijklmnopstuvxyz\n",
      "\n"
     ]
    }
   ],
   "source": [
    "def s(x):\n",
    "        az=\"abcdefghijklmnopqrstuvwxyz\"\n",
    "        n = 0\n",
    "        az = 'abcdefghijklmnopqrstuvwxyz'\n",
    "        for i in x:\n",
    "            if i in az:\n",
    "                az = az.replace(i,\"\")\n",
    "                n += 1\n",
    "        print(n)\n",
    "        print(az)\n",
    "        return\"\"\n",
    "print(s('waqar'))"
   ]
  },
  {
   "cell_type": "markdown",
   "metadata": {},
   "source": [
    "Question 11:\n",
    "Write a function that will take verbs in words and return a list of verbs with continuous tense by adding (ing) at the end of each verb.\n"
   ]
  },
  {
   "cell_type": "code",
   "execution_count": 47,
   "metadata": {},
   "outputs": [
    {
     "name": "stdout",
     "output_type": "stream",
     "text": [
      "verb finding\n"
     ]
    }
   ],
   "source": [
    "def verb(s):\n",
    "    if s[-1] == 'e':\n",
    "        s = s.replace(s[-1],\"\")\n",
    "        print(\"verb\",s+\"ing\")\n",
    "    else:\n",
    "        print(\"verb\",s+\"ing\")\n",
    "verb('find')"
   ]
  },
  {
   "cell_type": "markdown",
   "metadata": {},
   "source": [
    "Question 12:\n",
    "Make a function which can take two radius of circles and find the areas of it and subtract smaller one from larger one and tell the remaining area of circle.\n"
   ]
  },
  {
   "cell_type": "code",
   "execution_count": 52,
   "metadata": {},
   "outputs": [
    {
     "name": "stdout",
     "output_type": "stream",
     "text": [
      "235.61944901923448\n"
     ]
    }
   ],
   "source": [
    "from math import pi\n",
    "def area(r,b):\n",
    "    circle1= pi*(r**2)\n",
    "    circle2= pi*(b**2)\n",
    "    if circle1 > circle2:\n",
    "        fa = (circle1 - circle2)\n",
    "    else:\n",
    "        fa = (circle2 - circle1)\n",
    "    return abs(fa)\n",
    "print(area(5,10))"
   ]
  },
  {
   "cell_type": "markdown",
   "metadata": {},
   "source": [
    "Question 13:\n",
    "Write a function that will take a string and calculate number of Upper case letters and lower case letters.\n"
   ]
  },
  {
   "cell_type": "code",
   "execution_count": 56,
   "metadata": {},
   "outputs": [
    {
     "name": "stdout",
     "output_type": "stream",
     "text": [
      "1 5\n",
      "\n"
     ]
    }
   ],
   "source": [
    "def upperlower(x):\n",
    "    newupper = 0\n",
    "    newlower = 0\n",
    "    upper = 'ABCDEFGHIJKLMNOPQRSTUVWXYZ'\n",
    "    lower = 'abcdefghijklmnopqrstuvwxyz'\n",
    "    for i in x:\n",
    "        if i in upper:\n",
    "            newupper = newupper+1\n",
    "        if i in lower:\n",
    "            newlower = newlower+1\n",
    "    print(newupper,newlower)\n",
    "    return\"\"\n",
    "print(upperlower(\"Zohaib\"))    "
   ]
  },
  {
   "cell_type": "markdown",
   "metadata": {},
   "source": [
    "Question 14:\n",
    "Write a function which will take length and breadth of two rectangles. Subtract the smaller rectangle from the larger rectangle and return the area left behind.\n"
   ]
  },
  {
   "cell_type": "code",
   "execution_count": null,
   "metadata": {},
   "outputs": [],
   "source": [
    "def rectange(l,b,,x):\n",
    "    a = l*b\n",
    "    aa = *bb\n",
    "    if a > aa:\n",
    "        fa = (aa - a)\n",
    "    else:\n",
    "        fa = (a - aa)\n",
    "    return abs(fa)\n",
    "print(cc(5,2,5,10))"
   ]
  },
  {
   "cell_type": "markdown",
   "metadata": {},
   "source": [
    "Question 15:\n",
    "Create a function that can add the fractions in series such as 1 to 8 = 1/8+1/7+1/6+1/5 …… ½ and return the result in fraction not in decimal.\n"
   ]
  },
  {
   "cell_type": "code",
   "execution_count": 61,
   "metadata": {},
   "outputs": [
    {
     "name": "stdout",
     "output_type": "stream",
     "text": [
      "363/140\n",
      "\n"
     ]
    }
   ],
   "source": [
    "from fractions import Fraction\n",
    "def f(x,y):\n",
    "    f = 0\n",
    "    for ii in range(x,y):\n",
    "        f = f + Fraction(1,ii)\n",
    "    print(f)\n",
    "    return\"\"\n",
    "print(f(1,8))"
   ]
  },
  {
   "cell_type": "markdown",
   "metadata": {},
   "source": [
    "# Question 16:\n",
    "Write a function which will take height and base for a triangle and return the area with 5% increment then subtract and find the remaining area.\n"
   ]
  },
  {
   "cell_type": "code",
   "execution_count": 81,
   "metadata": {},
   "outputs": [
    {
     "name": "stdout",
     "output_type": "stream",
     "text": [
      "0.5412658773652748 cm.square\n"
     ]
    }
   ],
   "source": [
    "def area(a):\n",
    "    result=((math.sqrt(3))*(a**2))/4\n",
    "    result1=(result)*(105/100)\n",
    "    resul=result1-result\n",
    "    return resul\n",
    "print(area(5),\"cm.square\")"
   ]
  },
  {
   "cell_type": "markdown",
   "metadata": {},
   "source": [
    "Question 17:\n",
    "Write a function which will take a list of fruits names. The function will return how many alphabets are repetitive in the names of fruits and how many are unique letters.\n"
   ]
  },
  {
   "cell_type": "code",
   "execution_count": 74,
   "metadata": {},
   "outputs": [
    {
     "name": "stdout",
     "output_type": "stream",
     "text": [
      "[['a', 'l', 'e'], ['p']]\n"
     ]
    }
   ],
   "source": [
    "mylist = ['apple']\n",
    "\n",
    "def countletter(r):\n",
    "    counted = {}\n",
    "    for i in r:\n",
    "        for l in i:\n",
    "            if l in counted:\n",
    "                counted[l] += 1\n",
    "            else:\n",
    "                counted[l] = 1\n",
    "    return [[l for l in counted if counted[l] == 1], [l for l in counted if counted[l] > 1]]\n",
    "\n",
    "print(countletter(mylist))"
   ]
  },
  {
   "cell_type": "markdown",
   "metadata": {},
   "source": [
    "Question 18:\n",
    "Write a function that can take square length and radius of circle. Find the area of both and subtract the smallest shape from largest one and return the remaining shape area.\n"
   ]
  },
  {
   "cell_type": "code",
   "execution_count": 77,
   "metadata": {},
   "outputs": [
    {
     "name": "stdout",
     "output_type": "stream",
     "text": [
      "25\n",
      "78.55\n",
      "53.55\n"
     ]
    }
   ],
   "source": [
    "def squarelength(l,r):\n",
    "    sa = l*l\n",
    "    ca = 3.142*(r**2)\n",
    "    print(sa)\n",
    "    print(ca)\n",
    "    if sa > ca:\n",
    "        fa = (ca - sa)\n",
    "    else:\n",
    "        fa = (sa - ca)\n",
    "    return abs(fa)  \n",
    "print(squarelength(5,5))"
   ]
  }
 ],
 "metadata": {
  "kernelspec": {
   "display_name": "Python 3",
   "language": "python",
   "name": "python3"
  },
  "language_info": {
   "codemirror_mode": {
    "name": "ipython",
    "version": 3
   },
   "file_extension": ".py",
   "mimetype": "text/x-python",
   "name": "python",
   "nbconvert_exporter": "python",
   "pygments_lexer": "ipython3",
   "version": "3.6.8"
  }
 },
 "nbformat": 4,
 "nbformat_minor": 2
}
